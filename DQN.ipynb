{
 "cells": [
  {
   "cell_type": "code",
   "execution_count": 1,
   "metadata": {},
   "outputs": [],
   "source": [
    "import gymnasium as gym\n",
    "from scripts.DQN_Optimizer import DQN_Optimizer"
   ]
  },
  {
   "cell_type": "code",
   "execution_count": 2,
   "metadata": {},
   "outputs": [],
   "source": [
    "env = gym.make(\"CartPole-v1\")"
   ]
  },
  {
   "cell_type": "code",
   "execution_count": 3,
   "metadata": {},
   "outputs": [],
   "source": [
    "param_dict = {\n",
    "                \"batch_size\" : 128,\n",
    "                \"gamma\" : 0.99,\n",
    "                \"eps_start\" : 1,\n",
    "                \"eps_end\" : 0.1,\n",
    "                \"decay_steps\" : 100000,\n",
    "                \"tau\" : 0.005,\n",
    "                \"learning_rate\" : 1e-4,\n",
    "            }\n",
    "\n",
    "dqn_opt = DQN_Optimizer(env = env, replay_memory_size= 100, param_dict=param_dict,num_episodes=50)"
   ]
  },
  {
   "cell_type": "code",
   "execution_count": 4,
   "metadata": {},
   "outputs": [],
   "source": [
    "dqn_opt.set_optimizer(\"adam\")"
   ]
  },
  {
   "cell_type": "code",
   "execution_count": 5,
   "metadata": {},
   "outputs": [
    {
     "name": "stderr",
     "output_type": "stream",
     "text": [
      "Current epsilon: 0.99: 100%|██████████| 50/50 [00:07<00:00,  6.89it/s]"
     ]
    },
    {
     "name": "stdout",
     "output_type": "stream",
     "text": [
      "Optimization complete\n"
     ]
    },
    {
     "name": "stderr",
     "output_type": "stream",
     "text": [
      "\n"
     ]
    }
   ],
   "source": [
    "dqn_opt.run_optimization()"
   ]
  },
  {
   "cell_type": "code",
   "execution_count": 6,
   "metadata": {},
   "outputs": [
    {
     "data": {
      "text/plain": [
       "[10.0,\n",
       " 12.0,\n",
       " 12.0,\n",
       " 22.0,\n",
       " 20.0,\n",
       " 24.0,\n",
       " 23.0,\n",
       " 16.0,\n",
       " 23.0,\n",
       " 15.0,\n",
       " 21.0,\n",
       " 16.0,\n",
       " 16.0,\n",
       " 98.0,\n",
       " 26.0,\n",
       " 20.0,\n",
       " 42.0,\n",
       " 15.0,\n",
       " 23.0,\n",
       " 9.0,\n",
       " 13.0,\n",
       " 13.0,\n",
       " 10.0,\n",
       " 21.0,\n",
       " 57.0,\n",
       " 27.0,\n",
       " 11.0,\n",
       " 29.0,\n",
       " 18.0,\n",
       " 21.0,\n",
       " 13.0,\n",
       " 34.0,\n",
       " 12.0,\n",
       " 18.0,\n",
       " 9.0,\n",
       " 18.0,\n",
       " 34.0,\n",
       " 11.0,\n",
       " 14.0,\n",
       " 13.0,\n",
       " 13.0,\n",
       " 14.0,\n",
       " 20.0,\n",
       " 17.0,\n",
       " 21.0,\n",
       " 15.0,\n",
       " 13.0,\n",
       " 16.0,\n",
       " 21.0,\n",
       " 15.0]"
      ]
     },
     "execution_count": 6,
     "metadata": {},
     "output_type": "execute_result"
    }
   ],
   "source": [
    "dqn_opt.episode_cumulative_reward"
   ]
  },
  {
   "cell_type": "code",
   "execution_count": null,
   "metadata": {},
   "outputs": [],
   "source": [
    "dqn_opt.plot_durations()"
   ]
  },
  {
   "cell_type": "code",
   "execution_count": null,
   "metadata": {},
   "outputs": [],
   "source": []
  },
  {
   "cell_type": "code",
   "execution_count": null,
   "metadata": {},
   "outputs": [],
   "source": []
  }
 ],
 "metadata": {
  "kernelspec": {
   "display_name": "rl",
   "language": "python",
   "name": "python3"
  },
  "language_info": {
   "codemirror_mode": {
    "name": "ipython",
    "version": 3
   },
   "file_extension": ".py",
   "mimetype": "text/x-python",
   "name": "python",
   "nbconvert_exporter": "python",
   "pygments_lexer": "ipython3",
   "version": "3.11.8"
  }
 },
 "nbformat": 4,
 "nbformat_minor": 2
}
